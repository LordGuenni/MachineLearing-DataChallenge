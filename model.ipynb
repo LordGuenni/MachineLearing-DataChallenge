{
 "cells": [
  {
   "cell_type": "code",
   "execution_count": 37,
   "metadata": {},
   "outputs": [
    {
     "name": "stdout",
     "output_type": "stream",
     "text": [
      "(7352, 563)\n",
      "(1315, 563) (1485, 563)\n",
      "Accuracy: 92.79%\n",
      "Number of predicted columns: 1485\n",
      "Number of correct predictions: 1378\n"
     ]
    },
    {
     "name": "stderr",
     "output_type": "stream",
     "text": [
      "C:\\Users\\flori\\AppData\\Local\\Temp\\ipykernel_46776\\388775140.py:51: PerformanceWarning: DataFrame is highly fragmented.  This is usually the result of calling `frame.insert` many times, which has poor performance.  Consider joining all columns at once using pd.concat(axis=1) instead. To get a de-fragmented frame, use `newframe = frame.copy()`\n",
      "  test_data['predicted_activity'] = y_pred\n",
      "C:\\Users\\flori\\AppData\\Local\\Temp\\ipykernel_46776\\388775140.py:51: SettingWithCopyWarning: \n",
      "A value is trying to be set on a copy of a slice from a DataFrame.\n",
      "Try using .loc[row_indexer,col_indexer] = value instead\n",
      "\n",
      "See the caveats in the documentation: https://pandas.pydata.org/pandas-docs/stable/user_guide/indexing.html#returning-a-view-versus-a-copy\n",
      "  test_data['predicted_activity'] = y_pred\n"
     ]
    }
   ],
   "source": [
    "import pandas as pd\n",
    "from sklearn.model_selection import train_test_split\n",
    "from sklearn.preprocessing import StandardScaler\n",
    "from sklearn.ensemble import RandomForestClassifier\n",
    "from sklearn.metrics import accuracy_score\n",
    "\n",
    "# Load the training data\n",
    "data = pd.read_csv('measures.csv', delimiter=';', encoding='utf-8')\n",
    "\n",
    "# Preprocess the training data\n",
    "for col in data.select_dtypes(include=['object']).columns:\n",
    "    if col != 'activity':\n",
    "        data[col] = data[col].str.replace(',', '.').astype(float)\n",
    "\n",
    "print(data.shape)\n",
    "# Split data into training and testing sets based on the subjects\n",
    "train_subjects = [1.0, 3.0, 5.0, 6.0]\n",
    "test_subjects = [27.0, 28.0, 29.0, 30.0, 31.0]\n",
    "\n",
    "train_data = data[data['subject'].isin(train_subjects)]\n",
    "test_data = data[data['subject'].isin(test_subjects)]\n",
    "\n",
    "print(train_data.shape, test_data.shape)\n",
    "\n",
    "# Extract features and labels\n",
    "X_train = train_data.drop(columns=['subject', 'activity'])\n",
    "y_train = train_data['activity']\n",
    "\n",
    "X_test = test_data.drop(columns=['subject', 'activity'])\n",
    "y_test = test_data['activity']\n",
    "\n",
    "# Standardize the features\n",
    "scaler = StandardScaler()\n",
    "X_train = scaler.fit_transform(X_train)\n",
    "X_test = scaler.transform(X_test)\n",
    "\n",
    "# Train the model\n",
    "model = RandomForestClassifier(n_estimators=100, random_state=32)\n",
    "model.fit(X_train, y_train)\n",
    "\n",
    "# Make predictions\n",
    "y_pred = model.predict(X_test)\n",
    "\n",
    "# Evaluate the model\n",
    "accuracy = accuracy_score(y_test, y_pred)\n",
    "print(f\"Accuracy: {accuracy * 100:.2f}%\")\n",
    "\n",
    "## Testing\n",
    "\n",
    "# Add the predictions to the test data\n",
    "test_data['predicted_activity'] = y_pred\n",
    "print(f\"Number of predicted columns: {test_data.shape[0]}\")\n",
    "\n",
    "# Calculate the number of correct predictions\n",
    "\n",
    "correct_predictions = (test_data['activity'] == test_data['predicted_activity']).sum()\n",
    "print(f\"Number of correct predictions: {correct_predictions}\")"
   ]
  },
  {
   "cell_type": "code",
   "execution_count": 38,
   "metadata": {},
   "outputs": [
    {
     "name": "stderr",
     "output_type": "stream",
     "text": [
      "C:\\Users\\flori\\AppData\\Local\\Temp\\ipykernel_46776\\2892407981.py:19: PerformanceWarning: DataFrame is highly fragmented.  This is usually the result of calling `frame.insert` many times, which has poor performance.  Consider joining all columns at once using pd.concat(axis=1) instead. To get a de-fragmented frame, use `newframe = frame.copy()`\n",
      "  new_data['predicted_activity'] = y_new_pred\n"
     ]
    },
    {
     "name": "stdout",
     "output_type": "stream",
     "text": [
      "activity\n",
      "LAYING                1407\n",
      "STANDING              1374\n",
      "SITTING               1286\n",
      "WALKING               1226\n",
      "WALKING_UPSTAIRS      1073\n",
      "WALKING_DOWNSTAIRS     986\n",
      "Name: count, dtype: int64\n"
     ]
    }
   ],
   "source": [
    "# Load the new data\n",
    "new_data = pd.read_csv('to_predict.csv', delimiter=';', encoding='utf-8')\n",
    "\n",
    "# Preprocess the new data\n",
    "for col in new_data.select_dtypes(include=['object']).columns:\n",
    "    if col != 'activity':\n",
    "        new_data[col] = new_data[col].str.replace(',', '.').astype(float)\n",
    "\n",
    "# Extract features\n",
    "X_new = new_data.drop(columns=['subject'])\n",
    "\n",
    "# Standardize the features\n",
    "X_new = scaler.transform(X_new)\n",
    "\n",
    "# Make predictions\n",
    "y_new_pred = model.predict(X_new)\n",
    "\n",
    "# Add the predictions to the new data\n",
    "new_data['predicted_activity'] = y_new_pred\n",
    "\n",
    "\n",
    "# Count the number of each activity\n",
    "activity_counts = data['activity'].value_counts()\n",
    "print(activity_counts)\n",
    "\n",
    "# Save the new data with the predicted activity\n",
    "new_data.to_csv('predicted.csv', index=False)"
   ]
  }
 ],
 "metadata": {
  "kernelspec": {
   "display_name": "Python 3",
   "language": "python",
   "name": "python3"
  },
  "language_info": {
   "codemirror_mode": {
    "name": "ipython",
    "version": 3
   },
   "file_extension": ".py",
   "mimetype": "text/x-python",
   "name": "python",
   "nbconvert_exporter": "python",
   "pygments_lexer": "ipython3",
   "version": "3.12.4"
  }
 },
 "nbformat": 4,
 "nbformat_minor": 2
}
